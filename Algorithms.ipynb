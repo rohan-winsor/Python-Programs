{
 "cells": [
  {
   "cell_type": "markdown",
   "metadata": {},
   "source": [
    "## Binary Search\n",
    "Goes through an already sorted list\n",
    "\n",
    "Uses Mid-point to find the number "
   ]
  },
  {
   "cell_type": "markdown",
   "metadata": {},
   "source": [
    "![title](binaary_search.png)"
   ]
  },
  {
   "cell_type": "code",
   "execution_count": 55,
   "metadata": {},
   "outputs": [],
   "source": [
    "def binary_search(a,target):\n",
    "    start_index = 0\n",
    "    end_index = len(a) - 1\n",
    "    while start_index <= end_index:\n",
    "        mid = start_index + (end_index - start_index) // 2\n",
    "        mid_val = a[mid]\n",
    "        if mid_val == target:\n",
    "            return mid\n",
    "        elif target<mid_val:\n",
    "            end_index = mid - 1\n",
    "        else:\n",
    "            start_index = mid + 1\n",
    "    return \"NOT THERE\""
   ]
  },
  {
   "cell_type": "code",
   "execution_count": 57,
   "metadata": {},
   "outputs": [
    {
     "name": "stdout",
     "output_type": "stream",
     "text": [
      "0\n"
     ]
    }
   ],
   "source": [
    "a = [2,4,5,6,7,8,9,10,12,13,14]\n",
    "target = 2\n",
    "print(binary_search2(a, target))"
   ]
  },
  {
   "cell_type": "markdown",
   "metadata": {},
   "source": [
    "## Quick Sort\n",
    "Take a list an sort it in ascending or descending \n",
    "\n",
    "U choose pivot point and change the data before and after the pivot point "
   ]
  },
  {
   "cell_type": "markdown",
   "metadata": {},
   "source": [
    "![title](Quicksort.png)"
   ]
  },
  {
   "cell_type": "code",
   "execution_count": 74,
   "metadata": {},
   "outputs": [],
   "source": [
    "def quicksort(seq):\n",
    "    if  len(seq) <= 1 :\n",
    "        return seq\n",
    "    else:\n",
    "        pivot = seq.pop()\n",
    "    i_g = []\n",
    "    i_s = []\n",
    "    for i in seq:\n",
    "        if pivot > i:\n",
    "            i_s.append(i)\n",
    "        else:\n",
    "            i_g.append(i)\n",
    "    return quicksort(i_s) + [pivot] + quicksort(i_g)"
   ]
  },
  {
   "cell_type": "code",
   "execution_count": 75,
   "metadata": {},
   "outputs": [
    {
     "data": {
      "text/plain": [
       "[0, 0, 0, 1, 1, 1, 2, 2, 2, 3, 3, 3, 4, 4, 4]"
      ]
     },
     "execution_count": 75,
     "metadata": {},
     "output_type": "execute_result"
    }
   ],
   "source": [
    "a = list(range(0,5))*3\n",
    "quicksort(a)"
   ]
  },
  {
   "cell_type": "markdown",
   "metadata": {},
   "source": [
    "## Insertion sort\n",
    "\n",
    "Divide an list into sorted and unsorted list\n",
    "\n",
    "and then move the element one by one into the sorted list "
   ]
  },
  {
   "cell_type": "markdown",
   "metadata": {},
   "source": [
    "![title](insertionsort.png)"
   ]
  },
  {
   "cell_type": "code",
   "execution_count": 85,
   "metadata": {},
   "outputs": [],
   "source": [
    "def insertion_sort(seq):\n",
    "    index_len = range(1, len(seq))\n",
    "    for i in index_len:\n",
    "        value_to_sort = seq[i]\n",
    "        while seq[i-1] > value_to_sort and i>0:\n",
    "            seq[i-1], seq[i] = seq[i], seq[i-1]\n",
    "            i -= 1\n",
    "    return seq"
   ]
  },
  {
   "cell_type": "code",
   "execution_count": 87,
   "metadata": {},
   "outputs": [
    {
     "data": {
      "text/plain": [
       "[0, 0, 1, 1, 2, 2, 3, 3, 4, 4, 5]"
      ]
     },
     "execution_count": 87,
     "metadata": {},
     "output_type": "execute_result"
    }
   ],
   "source": [
    "a = list(range(0,5))*2\n",
    "insertion_sort(aa)"
   ]
  },
  {
   "cell_type": "markdown",
   "metadata": {},
   "source": [
    "## Bubble Sort\n",
    "\n",
    "Moves the Largest element in a list to the last index and then so on "
   ]
  },
  {
   "cell_type": "markdown",
   "metadata": {},
   "source": [
    "![title](enhanced-bubble-sort.png)"
   ]
  },
  {
   "cell_type": "code",
   "execution_count": 101,
   "metadata": {},
   "outputs": [],
   "source": [
    "def bubble(seq):\n",
    "    index_len = len(seq) -1 \n",
    "    Flag = False\n",
    "    while not Flag:\n",
    "        Flag = True\n",
    "        for i in range(0, index_len):\n",
    "            if seq[i] < seq[i-1]:\n",
    "                Flag = False\n",
    "                seq[i], seq[i-1] = seq[i-1], seq[i] \n",
    "    return seq"
   ]
  },
  {
   "cell_type": "code",
   "execution_count": 102,
   "metadata": {},
   "outputs": [
    {
     "name": "stdout",
     "output_type": "stream",
     "text": [
      "[2, 4, 5, 6, 6, 7, 8, 8, 9, 14, 1]\n"
     ]
    }
   ],
   "source": [
    "print(bubble([4,8,1,14,8,2,9,5,7,6,6]))"
   ]
  },
  {
   "cell_type": "code",
   "execution_count": null,
   "metadata": {},
   "outputs": [],
   "source": []
  }
 ],
 "metadata": {
  "kernelspec": {
   "display_name": "Python 3",
   "language": "python",
   "name": "python3"
  },
  "language_info": {
   "codemirror_mode": {
    "name": "ipython",
    "version": 3
   },
   "file_extension": ".py",
   "mimetype": "text/x-python",
   "name": "python",
   "nbconvert_exporter": "python",
   "pygments_lexer": "ipython3",
   "version": "3.7.4"
  }
 },
 "nbformat": 4,
 "nbformat_minor": 2
}
